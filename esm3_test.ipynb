{
 "cells": [
  {
   "cell_type": "code",
   "execution_count": null,
   "id": "cb93dcf1",
   "metadata": {},
   "outputs": [],
   "source": [
    "import torch\n",
    "\n",
    "from esm.models.esm3 import ESM3\n",
    "from esm.sdk.api import (\n",
    "    ESMProtein,\n",
    "    SamplingConfig,\n",
    "    SamplingTrackConfig,\n",
    ")\n",
    "from esm.utils.constants.models import ESM3_OPEN_SMALL\n",
    "from esm.utils.structure.protein_chain import ProteinChain\n",
    "\n",
    "# Initialize the client\n",
    "client = ESM3.from_pretrained(ESM3_OPEN_SMALL, device=torch.device(\"cuda\"))\n",
    "\n",
    "# Load the protein\n",
    "protein = ProteinChain.from_rcsb(\"1utn\")\n",
    "protein = ESMProtein.from_protein_chain(protein)\n",
    "protein.coordinates = None\n",
    "protein.sequence = 'MEEPQSDPSVEPPLSQETFSDLWKLLPENNVLSPLPSQAMDDLMLSPDDIEQWFTEDPGPDEAPRMPEAAPPVAPAPAAPTPAAPAPAPSWPLSSSVPSQKTYQGSYGFRLGFLHSGTAKSVTCTYSPALNKMFCQLAKTCPVQLWVDSTPPPGTRVRAMAIYKQSQHMTEVVRRCPHHERCSDSDGLAPPQHLIRVEGNLRVEYLDDRNTFRHSVVVPYEPPEVGSDCTTIHYNYMCNSSCMGGMNRRPILTIITLEDSSGNLLGRNSFEVRVCACPGRDRRTEEENLRKKGEPHHELPPGSTKRALPNNTSSSPQPKKKPLDGEYFTLQIRGRERFEMFRELNEALELKDAQAGKEPGGSRAHSSHLKSKKGQSTSRHKKLMFKTEGPDSD'\n",
    "\n",
    "# print(protein)\n",
    "\n",
    "# Predict function\n",
    "protein_tensor = client.encode(protein)\n",
    "inference_output = client.forward_and_sample(\n",
    "    protein_tensor,\n",
    "    SamplingConfig(\n",
    "        sequence=SamplingTrackConfig(),\n",
    "        structure=SamplingTrackConfig(),\n",
    "        secondary_structure=SamplingTrackConfig(),\n",
    "        sasa=SamplingTrackConfig(),\n",
    "        function=SamplingTrackConfig(only_sample_masked_tokens=False),\n",
    "        \n",
    "    ),\n",
    ")\n",
    "protein_tensor_with_function = inference_output.protein_tensor\n",
    "protein_with_function = client.decode(protein_tensor_with_function)\n",
    "print(protein_with_function)\n"
   ]
  },
  {
   "cell_type": "code",
   "execution_count": null,
   "id": "f195c8e3",
   "metadata": {},
   "outputs": [],
   "source": [
    "import re\n",
    "\n",
    "def split_annotations(annotations, residue_vocab):\n",
    "    interpro, keywords, residue = [], [], []\n",
    "    ipr_regex = re.compile(r\"IPR\\d+\")\n",
    "    for a in annotations:\n",
    "        if ipr_regex.search(a.label):\n",
    "            interpro.append(a)\n",
    "        elif a.label in residue_vocab:\n",
    "            residue.append(a)\n",
    "        else:\n",
    "            keywords.append(a)\n",
    "    return interpro, keywords, residue\n",
    "\n",
    "residue_vocab = client.tokenizers.residue_annotations._labels\n",
    "interpro_list, keyword_list, residue_list = split_annotations(\n",
    "    protein_with_function.function_annotations, residue_vocab\n",
    ")\n",
    "\n",
    "\n"
   ]
  },
  {
   "cell_type": "code",
   "execution_count": null,
   "id": "9eae6c57",
   "metadata": {},
   "outputs": [
    {
     "data": {
      "text/plain": [
       "[FunctionAnnotation(label='Acriflavin resistance protein (IPR001036)', start=1, end=25),\n",
       " FunctionAnnotation(label='Acriflavin resistance protein (IPR001036)', start=42, end=79),\n",
       " FunctionAnnotation(label='Acriflavin resistance protein (IPR001036)', start=95, end=169),\n",
       " FunctionAnnotation(label='Acriflavin resistance protein (IPR001036)', start=183, end=220),\n",
       " FunctionAnnotation(label='Peptidase S1C (IPR001940)', start=1, end=25),\n",
       " FunctionAnnotation(label='Peptidase S1C (IPR001940)', start=42, end=79),\n",
       " FunctionAnnotation(label='Peptidase S1C (IPR001940)', start=95, end=169),\n",
       " FunctionAnnotation(label='Peptidase S1C (IPR001940)', start=183, end=220),\n",
       " FunctionAnnotation(label='Tail specific protease (IPR005151)', start=1, end=25),\n",
       " FunctionAnnotation(label='Tail specific protease (IPR005151)', start=42, end=79),\n",
       " FunctionAnnotation(label='Tail specific protease (IPR005151)', start=94, end=169),\n",
       " FunctionAnnotation(label='Tail specific protease (IPR005151)', start=183, end=220),\n",
       " FunctionAnnotation(label='Glycoside hydrolase, family 2 (IPR006101)', start=1, end=25),\n",
       " FunctionAnnotation(label='Glycoside hydrolase, family 2 (IPR006101)', start=42, end=79),\n",
       " FunctionAnnotation(label='Glycoside hydrolase, family 2 (IPR006101)', start=95, end=169),\n",
       " FunctionAnnotation(label='Glycoside hydrolase, family 2 (IPR006101)', start=183, end=220),\n",
       " FunctionAnnotation(label='Peptidase S1A, chymotrypsin family (IPR001314)', start=26, end=41),\n",
       " FunctionAnnotation(label='Peptidase S1A, chymotrypsin family (IPR001314)', start=80, end=94),\n",
       " FunctionAnnotation(label='Peptidase S1A, chymotrypsin family (IPR001314)', start=170, end=182)]"
      ]
     },
     "execution_count": 3,
     "metadata": {},
     "output_type": "execute_result"
    }
   ],
   "source": [
    "interpro_list"
   ]
  },
  {
   "cell_type": "code",
   "execution_count": null,
   "id": "870f43b2",
   "metadata": {},
   "outputs": [
    {
     "data": {
      "text/plain": [
       "[FunctionAnnotation(label='a protein', start=1, end=220),\n",
       " FunctionAnnotation(label='chymotrypsin', start=1, end=220),\n",
       " FunctionAnnotation(label='endopeptidase', start=1, end=220),\n",
       " FunctionAnnotation(label='endopeptidase activity', start=1, end=220),\n",
       " FunctionAnnotation(label='fold', start=1, end=36),\n",
       " FunctionAnnotation(label='fold', start=41, end=220),\n",
       " FunctionAnnotation(label='like fold', start=1, end=25),\n",
       " FunctionAnnotation(label='like fold', start=42, end=79),\n",
       " FunctionAnnotation(label='like fold', start=94, end=169),\n",
       " FunctionAnnotation(label='like fold', start=183, end=220),\n",
       " FunctionAnnotation(label='pa', start=1, end=25),\n",
       " FunctionAnnotation(label='pa', start=42, end=79),\n",
       " FunctionAnnotation(label='pa', start=94, end=220),\n",
       " FunctionAnnotation(label='peptidase', start=1, end=220),\n",
       " FunctionAnnotation(label='peptidase activity', start=1, end=220),\n",
       " FunctionAnnotation(label='peptidase s1', start=1, end=220),\n",
       " FunctionAnnotation(label='proteolysis', start=1, end=170),\n",
       " FunctionAnnotation(label='proteolysis', start=181, end=220),\n",
       " FunctionAnnotation(label='s1', start=1, end=220),\n",
       " FunctionAnnotation(label='serine', start=1, end=220),\n",
       " FunctionAnnotation(label='serine hydrolase', start=1, end=220),\n",
       " FunctionAnnotation(label='serine type', start=1, end=220),\n",
       " FunctionAnnotation(label='type endopeptidase', start=1, end=25),\n",
       " FunctionAnnotation(label='type endopeptidase', start=36, end=79),\n",
       " FunctionAnnotation(label='type endopeptidase', start=95, end=220),\n",
       " FunctionAnnotation(label='type peptidase', start=1, end=220),\n",
       " FunctionAnnotation(label='active', start=36, end=41),\n",
       " FunctionAnnotation(label='active', start=171, end=182),\n",
       " FunctionAnnotation(label='chymotrypsin family', start=36, end=41),\n",
       " FunctionAnnotation(label='chymotrypsin family', start=171, end=182),\n",
       " FunctionAnnotation(label='histidine', start=36, end=41),\n",
       " FunctionAnnotation(label='histidine', start=171, end=180)]"
      ]
     },
     "execution_count": 4,
     "metadata": {},
     "output_type": "execute_result"
    }
   ],
   "source": [
    "keyword_list"
   ]
  },
  {
   "cell_type": "code",
   "execution_count": null,
   "id": "69a965bc",
   "metadata": {},
   "outputs": [
    {
     "data": {
      "text/plain": [
       "[]"
      ]
     },
     "execution_count": 5,
     "metadata": {},
     "output_type": "execute_result"
    }
   ],
   "source": [
    "residue_list"
   ]
  },
  {
   "cell_type": "code",
   "execution_count": 7,
   "id": "759c93a9",
   "metadata": {},
   "outputs": [],
   "source": [
    "from biotite.database import rcsb"
   ]
  },
  {
   "cell_type": "code",
   "execution_count": 8,
   "id": "5e266d18",
   "metadata": {},
   "outputs": [
    {
     "data": {
      "text/plain": [
       "<module 'biotite.database.rcsb' from '/home/davidar/anaconda3/envs/esm3_h5py/lib/python3.10/site-packages/biotite/database/rcsb/__init__.py'>"
      ]
     },
     "execution_count": 8,
     "metadata": {},
     "output_type": "execute_result"
    }
   ],
   "source": [
    "rcsb"
   ]
  },
  {
   "cell_type": "code",
   "execution_count": null,
   "id": "3e88684e",
   "metadata": {},
   "outputs": [],
   "source": []
  }
 ],
 "metadata": {
  "kernelspec": {
   "display_name": "esm3_h5py",
   "language": "python",
   "name": "python3"
  },
  "language_info": {
   "codemirror_mode": {
    "name": "ipython",
    "version": 3
   },
   "file_extension": ".py",
   "mimetype": "text/x-python",
   "name": "python",
   "nbconvert_exporter": "python",
   "pygments_lexer": "ipython3",
   "version": "3.10.16"
  }
 },
 "nbformat": 4,
 "nbformat_minor": 5
}
