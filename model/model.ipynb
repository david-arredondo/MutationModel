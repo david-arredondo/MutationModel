{
 "cells": [
  {
   "cell_type": "code",
   "execution_count": 1,
   "id": "9af83b0c",
   "metadata": {},
   "outputs": [
    {
     "name": "stderr",
     "output_type": "stream",
     "text": [
      "/home/dandreas/.local/lib/python3.10/site-packages/tqdm/auto.py:21: TqdmWarning: IProgress not found. Please update jupyter and ipywidgets. See https://ipywidgets.readthedocs.io/en/stable/user_install.html\n",
      "  from .autonotebook import tqdm as notebook_tqdm\n"
     ]
    }
   ],
   "source": [
    "import torch\n",
    "import torch.nn as nn\n",
    "import torch.optim as optim\n",
    "import numpy as np\n",
    "from tqdm import tqdm\n",
    "from functools import partial\n",
    "from saveAndLoad import *\n",
    "from functools import partial\n",
    "import math\n",
    "import torch.nn.functional as F\n",
    "import torch.nn as nn\n",
    "\n",
    "import torch.distributed as dist\n",
    "from torch.distributed.fsdp import FullyShardedDataParallel as FSDP, MixedPrecision, CPUOffload\n",
    "from torch.distributed.fsdp import (\n",
    "    StateDictType,\n",
    "    FullStateDictConfig\n",
    ")\n",
    "from torch.utils.data import DistributedSampler, DataLoader\n",
    "import os\n",
    "from torch.amp import autocast, GradScaler\n",
    "from torch.distributions import Beta\n",
    "\n",
    "import time as time_\n",
    "from contextlib import nullcontext\n",
    "from transformers import AutoModelForCausalLM, AutoTokenizer, pipeline\n",
    "# from peft import get_peft_model, LoraConfig, PrefixTuningConfig, TaskType\n",
    "import torch, torch.nn as nn"
   ]
  },
  {
   "cell_type": "code",
   "execution_count": 3,
   "id": "785f5d6d",
   "metadata": {},
   "outputs": [],
   "source": [
    "class MLP(nn.Module):\n",
    "\n",
    "    def __init__(self, config, use_dropout=True, d = 'emb'):\n",
    "        super().__init__()\n",
    "        assert d in ['emb', 'input'], \"d must be either 'emb' or 'input'\"\n",
    "        d = config.emb_dim if d == 'emb' else config.input_dim\n",
    "        self.c_fc    = nn.Linear(d, 4 * d, bias=config.bias)\n",
    "        self.gelu    = nn.GELU()\n",
    "        self.c_proj  = nn.Linear(4 * d, d, bias=config.bias)\n",
    "        self.dropout = nn.Dropout(config.dropout)\n",
    "        self.use_dropout = use_dropout\n",
    "\n",
    "    def forward(self, x):\n",
    "        x = self.c_fc(x)\n",
    "        x = self.gelu(x)\n",
    "        x = self.c_proj(x)\n",
    "        if self.use_dropout: x = self.dropout(x)\n",
    "        return x\n",
    "\n",
    "class Block_CrossAttentionResampler(nn.Module):\n",
    "    def __init__(self, config):\n",
    "        super().__init__()\n",
    "        self.norm_q = config.norm_fn(config.input_dim)\n",
    "        self.norm_k = config.norm_fn(config.input_dim)\n",
    "        self.norm_mlp = config.norm_fn(config.input_dim)\n",
    "        self.lin = nn.Linear(config.input_dim, config.input_dim)\n",
    "        self.mlp = MLP(config, d='input')\n",
    "\n",
    "        self.resampler = nn.MultiheadAttention(embed_dim=config.input_dim, \n",
    "                                            num_heads=config.num_heads, \n",
    "                                            dropout=config.dropout, \n",
    "                                            batch_first=True)\n",
    "\n",
    "    def forward(self, x):\n",
    "        seq, q, key_padding_mask = x\n",
    "        q_norm =    self.norm_q(q)\n",
    "        seq_norm =  self.norm_k(seq)\n",
    "        x = (seq_norm, q_norm, key_padding_mask)\n",
    "        resampled = self.resampler(x)\n",
    "        resampled = self.lin(resampled)\n",
    "        q = q + resampled\n",
    "        q = self.norm_mlp(q)\n",
    "        q = q + self.mlp(q)\n",
    "        return q\n",
    "\n",
    "class CrossAttentionResampler(nn.Module):\n",
    "    def __init__(self, config):\n",
    "        super().__init__()\n",
    "        self.query = nn.Embedding(config.n_resampled_tokens, config.input_dim)\n",
    "        self.blocks = nn.ModuleList([\n",
    "            Block_CrossAttentionResampler(config)\n",
    "            for _ in range(config.n_cross_attention_resampler_blocks)\n",
    "        ])\n",
    "        \n",
    "    def forward(self, x):\n",
    "        seq, key_padding_mask = x\n",
    "        B, seq_len, emb_dim = seq.shape\n",
    "        q = self.query(torch.arange(self.query.num_embeddings, device=seq.device))\n",
    "        q = q.unsqueeze(0).expand(B, -1, -1)\n",
    "        for block in self.blocks:\n",
    "            x = (seq, q, key_padding_mask)\n",
    "            q = block(x)\n",
    "        return q\n",
    "\n",
    "\n",
    "class MutantResampler(nn.Module):\n",
    "    def __init__(self, config):\n",
    "        super().__init__()\n",
    "        self.resampler = CrossAttentionResampler(config)\n",
    "        self.lm = AutoModelForCausalLM.from_pretrained(\n",
    "            config.lm_name,\n",
    "            torch_dtype=config.torch_dtype,\n",
    "            device_map=config.device_map,\n",
    "            gradient_checkpointing=True\n",
    "        )\n",
    "\n",
    "    def forward(self, x):\n",
    "        # seq, key_padding_mask = x\n",
    "        mut_repr = self.resampler(x)\n",
    "        lm_output = self.lm(mut_repr)\n",
    "        return lm_output"
   ]
  },
  {
   "cell_type": "code",
   "execution_count": 4,
   "id": "3964fc28",
   "metadata": {},
   "outputs": [
    {
     "name": "stderr",
     "output_type": "stream",
     "text": [
      "Loading checkpoint shards: 100%|██████████| 4/4 [00:04<00:00,  1.21s/it]\n"
     ]
    },
    {
     "data": {
      "text/plain": [
       "LlamaForCausalLM(\n",
       "  (model): LlamaModel(\n",
       "    (embed_tokens): Embedding(128256, 4096)\n",
       "    (layers): ModuleList(\n",
       "      (0-31): 32 x LlamaDecoderLayer(\n",
       "        (self_attn): LlamaSdpaAttention(\n",
       "          (q_proj): Linear(in_features=4096, out_features=4096, bias=False)\n",
       "          (k_proj): Linear(in_features=4096, out_features=1024, bias=False)\n",
       "          (v_proj): Linear(in_features=4096, out_features=1024, bias=False)\n",
       "          (o_proj): Linear(in_features=4096, out_features=4096, bias=False)\n",
       "          (rotary_emb): LlamaRotaryEmbedding()\n",
       "        )\n",
       "        (mlp): LlamaMLP(\n",
       "          (gate_proj): Linear(in_features=4096, out_features=14336, bias=False)\n",
       "          (up_proj): Linear(in_features=4096, out_features=14336, bias=False)\n",
       "          (down_proj): Linear(in_features=14336, out_features=4096, bias=False)\n",
       "          (act_fn): SiLU()\n",
       "        )\n",
       "        (input_layernorm): LlamaRMSNorm((4096,), eps=1e-05)\n",
       "        (post_attention_layernorm): LlamaRMSNorm((4096,), eps=1e-05)\n",
       "      )\n",
       "    )\n",
       "    (norm): LlamaRMSNorm((4096,), eps=1e-05)\n",
       "    (rotary_emb): LlamaRotaryEmbedding()\n",
       "  )\n",
       "  (lm_head): Linear(in_features=4096, out_features=128256, bias=False)\n",
       ")"
      ]
     },
     "execution_count": 4,
     "metadata": {},
     "output_type": "execute_result"
    }
   ],
   "source": [
    "model_name = \"aaditya/OpenBioLLM-Llama3-8B\"\n",
    "\n",
    "base_lm = AutoModelForCausalLM.from_pretrained(\n",
    "    model_name,\n",
    "    torch_dtype=torch.bfloat16,\n",
    "    device_map=\"cuda:2\"\n",
    ")\n",
    "\n",
    "tokenizer = AutoTokenizer.from_pretrained(model_name,use_fast=True)\n",
    "\n",
    "base_lm.to('cuda:2')"
   ]
  },
  {
   "cell_type": "code",
   "execution_count": null,
   "id": "c0e089de",
   "metadata": {},
   "outputs": [
    {
     "name": "stdout",
     "output_type": "stream",
     "text": [
      "--------prompt--------\n",
      "<|begin_of_text|><|start_header_id|>system<|end_header_id|>\n",
      "\n",
      "Cutting Knowledge Date: December 2023\n",
      "Today Date: 26 Jul 2024\n",
      "\n",
      "You are an expert in genomics and proteomics. Respond clearly and concisely.<|eot_id|><|start_header_id|>user<|end_header_id|>\n",
      "\n",
      "Describe all protein domains of Tp53.<|eot_id|><|start_header_id|>assistant<|end_header_id|>\n",
      "\n",
      "\n",
      "--------output--------\n",
      "<|begin_of_text|><|start_header_id|>system<|end_header_id|>\n",
      "\n",
      "Cutting Knowledge Date: December 2023\n",
      "Today Date: 26 Jul 2024\n",
      "\n",
      "You are an expert in genomics and proteomics. Respond clearly and concisely.<|eot_id|><|start_header_id|>user<|end_header_id|>\n",
      "\n",
      "Describe all protein domains of Tp53.<|eot_id|><|start_header_id|>assistant<|end_header_id|>\n",
      "\n",
      "The p53 gene encodes for the tumor suppressor protein TP53, which is involved in regulating cell division and preventing cancer formation by inducing DNA repair or apoptosis when necessary. The structure of TP53 includes several functional domains that contribute to its various activities within cells. These include: 1) The N-terminal transactivation domain (residues 1-42), which interacts with other proteins to activate transcription at promoters. 2) A proline-rich region (residues 43-58), thought to be important for binding to specific cellular targets. 3) A sequence-specific DNA-binding domain (residues 102-115), which recognizes and binds to specific sequences on target genes. 4) An oligomerization domain (residues 323-355), through which multiple copies of p53 can assemble into tetramers, facilitating cooperative DNA binding and transcriptional activation. 5) C-terminal regulatory domains (residues 360-end), containing phosphorylation sites critical for modulating p53 activity in response to cellular stress signals. Overall, these domains enable TP53 to perform its functions as a key regulator of cell cycle progression, DNA damage responses, and maintenance of genomic stability.<|end_of_text|>\n",
      "\n",
      "--------response only--------\n",
      "The p53 gene encodes for the tumor suppressor protein TP53, which is involved in regulating cell division and preventing cancer formation by inducing DNA repair or apoptosis when necessary. The structure of TP53 includes several functional domains that contribute to its various activities within cells. These include: 1) The N-terminal transactivation domain (residues 1-42), which interacts with other proteins to activate transcription at promoters. 2) A proline-rich region (residues 43-58), thought to be important for binding to specific cellular targets. 3) A sequence-specific DNA-binding domain (residues 102-115), which recognizes and binds to specific sequences on target genes. 4) An oligomerization domain (residues 323-355), through which multiple copies of p53 can assemble into tetramers, facilitating cooperative DNA binding and transcriptional activation. 5) C-terminal regulatory domains (residues 360-end), containing phosphorylation sites critical for modulating p53 activity in response to cellular stress signals. Overall, these domains enable TP53 to perform its functions as a key regulator of cell cycle progression, DNA damage responses, and maintenance of genomic stability.<|end_of_text|>\n"
     ]
    }
   ],
   "source": [
    "create_message = lambda q, a: [\n",
    "    {'role': 'system','content': ('You are an expert in genomics and proteomics. Respond clearly and concisely.')},\n",
    "    {'role': 'user', 'content': f'{q}'},\n",
    "    # {'role': 'assistant', 'content': f'{a}'} \n",
    "    ]\n",
    "\n",
    "q = create_message(\"Describe all protein domains of Tp53.\", \"Example Response\")\n",
    "\n",
    "llama3_template = \"{{- bos_token }}\\n{%- if custom_tools is defined %}\\n    {%- set tools = custom_tools %}\\n{%- endif %}\\n{%- if not tools_in_user_message is defined %}\\n    {%- set tools_in_user_message = true %}\\n{%- endif %}\\n{%- if not date_string is defined %}\\n    {%- set date_string = \\\"26 Jul 2024\\\" %}\\n{%- endif %}\\n{%- if not tools is defined %}\\n    {%- set tools = none %}\\n{%- endif %}\\n\\n{#- This block extracts the system message, so we can slot it into the right place. #}\\n{%- if messages[0]['role'] == 'system' %}\\n    {%- set system_message = messages[0]['content']|trim %}\\n    {%- set messages = messages[1:] %}\\n{%- else %}\\n    {%- set system_message = \\\"\\\" %}\\n{%- endif %}\\n\\n{#- System message + builtin tools #}\\n{{- \\\"<|start_header_id|>system<|end_header_id|>\\\\n\\\\n\\\" }}\\n{%- if builtin_tools is defined or tools is not none %}\\n    {{- \\\"Environment: ipython\\\\n\\\" }}\\n{%- endif %}\\n{%- if builtin_tools is defined %}\\n    {{- \\\"Tools: \\\" + builtin_tools | reject('equalto', 'code_interpreter') | join(\\\", \\\") + \\\"\\\\n\\\\n\\\"}}\\n{%- endif %}\\n{{- \\\"Cutting Knowledge Date: December 2023\\\\n\\\" }}\\n{{- \\\"Today Date: \\\" + date_string + \\\"\\\\n\\\\n\\\" }}\\n{%- if tools is not none and not tools_in_user_message %}\\n    {{- \\\"You have access to the following functions. To call a function, please respond with JSON for a function call.\\\" }}\\n    {{- 'Respond in the format {\\\"name\\\": function name, \\\"parameters\\\": dictionary of argument name and its value}.' }}\\n    {{- \\\"Do not use variables.\\\\n\\\\n\\\" }}\\n    {%- for t in tools %}\\n        {{- t | tojson(indent=4) }}\\n        {{- \\\"\\\\n\\\\n\\\" }}\\n    {%- endfor %}\\n{%- endif %}\\n{{- system_message }}\\n{{- \\\"<|eot_id|>\\\" }}\\n\\n{#- Custom tools are passed in a user message with some extra guidance #}\\n{%- if tools_in_user_message and not tools is none %}\\n    {#- Extract the first user message so we can plug it in here #}\\n    {%- if messages | length != 0 %}\\n        {%- set first_user_message = messages[0]['content']|trim %}\\n        {%- set messages = messages[1:] %}\\n    {%- else %}\\n        {{- raise_exception(\\\"Cannot put tools in the first user message when there's no first user message!\\\") }}\\n{%- endif %}\\n    {{- '<|start_header_id|>user<|end_header_id|>\\\\n\\\\n' -}}\\n    {{- \\\"Given the following functions, please respond with a JSON for a function call \\\" }}\\n    {{- \\\"with its proper arguments that best answers the given prompt.\\\\n\\\\n\\\" }}\\n    {{- 'Respond in the format {\\\"name\\\": function name, \\\"parameters\\\": dictionary of argument name and its value}.' }}\\n    {{- \\\"Do not use variables.\\\\n\\\\n\\\" }}\\n    {%- for t in tools %}\\n        {{- t | tojson(indent=4) }}\\n        {{- \\\"\\\\n\\\\n\\\" }}\\n    {%- endfor %}\\n    {{- first_user_message + \\\"<|eot_id|>\\\"}}\\n{%- endif %}\\n\\n{%- for message in messages %}\\n    {%- if not (message.role == 'ipython' or message.role == 'tool' or 'tool_calls' in message) %}\\n        {{- '<|start_header_id|>' + message['role'] + '<|end_header_id|>\\\\n\\\\n'+ message['content'] | trim + '<|eot_id|>' }}\\n    {%- elif 'tool_calls' in message %}\\n        {%- if not message.tool_calls|length == 1 %}\\n            {{- raise_exception(\\\"This model only supports single tool-calls at once!\\\") }}\\n        {%- endif %}\\n        {%- set tool_call = message.tool_calls[0].function %}\\n        {%- if builtin_tools is defined and tool_call.name in builtin_tools %}\\n            {{- '<|start_header_id|>assistant<|end_header_id|>\\\\n\\\\n' -}}\\n            {{- \\\"<|python_tag|>\\\" + tool_call.name + \\\".call(\\\" }}\\n            {%- for arg_name, arg_val in tool_call.arguments | items %}\\n                {{- arg_name + '=\\\"' + arg_val + '\\\"' }}\\n                {%- if not loop.last %}\\n                    {{- \\\", \\\" }}\\n                {%- endif %}\\n                {%- endfor %}\\n            {{- \\\")\\\" }}\\n        {%- else  %}\\n            {{- '<|start_header_id|>assistant<|end_header_id|>\\\\n\\\\n' -}}\\n            {{- '{\\\"name\\\": \\\"' + tool_call.name + '\\\", ' }}\\n            {{- '\\\"parameters\\\": ' }}\\n            {{- tool_call.arguments | tojson }}\\n            {{- \\\"}\\\" }}\\n        {%- endif %}\\n        {%- if builtin_tools is defined %}\\n            {#- This means we're in ipython mode #}\\n            {{- \\\"<|eom_id|>\\\" }}\\n        {%- else %}\\n            {{- \\\"<|eot_id|>\\\" }}\\n        {%- endif %}\\n    {%- elif message.role == \\\"tool\\\" or message.role == \\\"ipython\\\" %}\\n        {{- \\\"<|start_header_id|>ipython<|end_header_id|>\\\\n\\\\n\\\" }}\\n        {%- if message.content is mapping or message.content is iterable %}\\n            {{- message.content | tojson }}\\n        {%- else %}\\n            {{- message.content }}\\n        {%- endif %}\\n        {{- \\\"<|eot_id|>\\\" }}\\n    {%- endif %}\\n{%- endfor %}\\n{%- if add_generation_prompt %}\\n    {{- '<|start_header_id|>assistant<|end_header_id|>\\\\n\\\\n' }}\\n{%- endif %}\\n\"\n",
    "\n",
    "# llama3_template = \"\"\"<|begin_of_text|>{% for message in messages %}\n",
    "# <|start_header_id|>{{ message['role'] }}<|end_header_id|>\n",
    "# {{ message['content'] }}<|eot_id|>\n",
    "# {% endfor %}{% if add_generation_prompt %}\n",
    "# <|start_header_id|>assistant<|end_header_id|>\n",
    "# {% endif %}\"\"\"\n",
    "\n",
    "tokenizer.chat_template = llama3_template\n",
    "prompt = tokenizer.apply_chat_template(q, tokenize=False, add_generation_prompt=True)\n",
    "print('--------prompt--------')\n",
    "print(prompt)\n",
    "print('--------output--------')\n",
    "tokenized = tokenizer(prompt, return_tensors=\"pt\").to('cuda:2')\n",
    "terminators = [tokenizer.eos_token_id, tokenizer.convert_tokens_to_ids(\"<|eot_id|>\")]\n",
    "with torch.no_grad():\n",
    "    outputs = base_lm.generate(**tokenized,\n",
    "                               num_beams = 1,\n",
    "                               do_sample = False,\n",
    "                               repetition_penalty = 1.2,\n",
    "                               eos_token_id = terminators,\n",
    "                                pad_token_id = tokenizer.pad_token_id,\n",
    "                               max_new_tokens = 1000)  \n",
    "output_text = tokenizer.decode(outputs[0], skip_special_tokens=False)\n",
    "print(output_text)\n",
    "print('\\n--------response only--------')\n",
    "print(output_text.split('\\n')[-1])  \n"
   ]
  },
  {
   "cell_type": "code",
   "execution_count": 69,
   "id": "3d49183a",
   "metadata": {},
   "outputs": [
    {
     "data": {
      "text/plain": [
       "'--------prompt--------\\n<|begin_of_text|><|start_header_id|>system<|end_header_id|>\\nYou are an expert in genomics and proteomics. Respond clearly and concisely.<|eot_id|>\\n<|start_header_id|>user<|end_header_id|>\\nDescribe all protein domains of Tp53.<|eot_id|>\\n'"
      ]
     },
     "execution_count": 69,
     "metadata": {},
     "output_type": "execute_result"
    }
   ],
   "source": [
    "'''--------prompt--------\n",
    "<|begin_of_text|><|start_header_id|>system<|end_header_id|>\n",
    "You are an expert in genomics and proteomics. Respond clearly and concisely.<|eot_id|>\n",
    "<|start_header_id|>user<|end_header_id|>\n",
    "Describe all protein domains of Tp53.<|eot_id|>\n",
    "'''\n",
    "\n"
   ]
  },
  {
   "cell_type": "code",
   "execution_count": null,
   "id": "e6f960e3",
   "metadata": {},
   "outputs": [],
   "source": []
  }
 ],
 "metadata": {
  "kernelspec": {
   "display_name": "esm3_h5py",
   "language": "python",
   "name": "python3"
  },
  "language_info": {
   "codemirror_mode": {
    "name": "ipython",
    "version": 3
   },
   "file_extension": ".py",
   "mimetype": "text/x-python",
   "name": "python",
   "nbconvert_exporter": "python",
   "pygments_lexer": "ipython3",
   "version": "3.10.16"
  }
 },
 "nbformat": 4,
 "nbformat_minor": 5
}
